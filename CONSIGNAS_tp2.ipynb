{
 "cells": [
  {
   "cell_type": "markdown",
   "metadata": {},
   "source": [
    "# Criterios de evaluación.\n",
    "\n",
    "* Se deben utilizar nombres de variables descriptivos y claros.\n",
    "* Cada ejercicio debe ser realizado utilizando **FUNCIONES**, NO solo codigo suelto.\n",
    "* Comentarios claros y concisos que expliquen el propósito de cada sección del código.\n",
    "* Entrega en tiempo y forma.\n",
    "* Todo el código desarrollado debe ser subido a un repositorio en GitHub.\n",
    "\n",
    "\n",
    "**Aclaración: Para resolver las actividades se debe incertar casillas de codigo entre cada actividad del cuaderno de Jupyter**"
   ]
  },
  {
   "cell_type": "markdown",
   "metadata": {},
   "source": [
    "### 1. **Bucles**\n",
    "\n",
    "   - **Actividad 1.1**: Escribir un programa que muestre el print de todo lo que el usuario introduzca hasta que el usuario escriba “salir” que terminará.\n",
    "   \n",
    "   - **Actividad 1.2**: Escribir un programa que pida al usuario un número entero y muestre por pantalla un triángulo rectángulo como el de más abajo con la cantidad de escalones indicados previamente (los numeros dentro del triangulo deben ser enteros aleatorios del 0 al 9).\n",
    "* 1\n",
    "* 3 1\n",
    "* 5 3 1\n",
    "* 7 5 3 1\n",
    "* 9 7 5 3 1"
   ]
  },
  {
   "cell_type": "code",
   "execution_count": null,
   "metadata": {},
   "outputs": [
    {
     "name": "stdout",
     "output_type": "stream",
     "text": [
      "hola\n",
      "munho\n",
      "mundo\n",
      "hola\n",
      "mundo\n"
     ]
    }
   ],
   "source": [
    "\n",
    "# todo: Resolución\n",
    "def salir_bucle():\n",
    " while True:\n",
    "    usuario =  input(\"Escribe algo\")\n",
    "    #Si el usuario ingresa Salir se rompe el bucle\n",
    "    if usuario == \"Salir\":\n",
    "        break\n",
    "    print(usuario)\n",
    "salir_bucle()\n"
   ]
  },
  {
   "cell_type": "code",
   "execution_count": null,
   "metadata": {},
   "outputs": [
    {
     "name": "stdout",
     "output_type": "stream",
     "text": [
      "0\n",
      "01\n",
      "542\n",
      "2446\n",
      "60326\n"
     ]
    }
   ],
   "source": [
    "\n",
    "# todo: resolución\n",
    "import random\n",
    "def numero_aleatorio():\n",
    " numero = int(input(\"Ingrese a un numero entero:\"))\n",
    " #va creando cada fila del triangulo\n",
    " for i in range(1, numero + 1):\n",
    "  \n",
    "  for x in range(i):\n",
    "   #Imprime un numero random del 0 al 9\n",
    "    #end = \"\" evita un salto de linea hasta que se termine la fila\n",
    "   print(random.randint(0,9), end = \"\")\n",
    "  print()\n",
    "numero_aleatorio()\n",
    "\n",
    "  \n",
    "    \n",
    "    \n"
   ]
  },
  {
   "cell_type": "markdown",
   "metadata": {},
   "source": [
    "### 2. **Listas y Tuplas**\n",
    "\n",
    "   - **Actividad 1**: Escribir un programa que pida al usuario una frase y muestre por pantalla el número de veces que contiene cada vocal y la cantidad de espacios en blanco.\n",
    "\n",
    "   - **Actividad 2**: Escribir un programa que cree una matriz (con numeros aleatorios del 1 al 100) usando las dimensiones de X e Y que el usuario deberia ingresar por consola, luego crea una tupla con la matriz transpuesta y por ultimo las muestra ambas por consola .\n",
    "\n",
    "   - **Actividad 3**: Escribir un programa que almacene en una lista los siguientes precios, 50, 75, 46, 22, 80, 65, 8, y muestre por pantalla el menor y el mayor de los precios"
   ]
  },
  {
   "cell_type": "code",
   "execution_count": null,
   "metadata": {},
   "outputs": [
    {
     "name": "stdout",
     "output_type": "stream",
     "text": [
      "\n",
      "Frase: hola mundo\n",
      "a: 1\n",
      "e: 0\n",
      "i: 0\n",
      "o: 2\n",
      "u: 1\n",
      "Espacios en blanco: 1\n"
     ]
    }
   ],
   "source": [
    "\n",
    "# todo: Resolución\n",
    "def contar():\n",
    "    frase = input(\"Escribe una frase:\")\n",
    "    print(\"\\nFrase:\", frase)\n",
    "    vocaless = \"aeiou\"\n",
    "    for vocal in vocaless: \n",
    "        #cuenta las vocales en la oracion\n",
    "        print(f\"{vocal}: {frase.count(vocal)}\")\n",
    "        #cuenta los espacios de la oracion\n",
    "    print(f\"Espacios en blanco: {frase.count(' ')}\")\n",
    "contar()\n"
   ]
  },
  {
   "cell_type": "code",
   "execution_count": null,
   "metadata": {},
   "outputs": [
    {
     "name": "stdout",
     "output_type": "stream",
     "text": [
      "\n",
      "Matriz:\n",
      "[4, 100, 65, 64, 34, 48]\n",
      "[85, 80, 62, 77, 98, 63]\n",
      "[63, 97, 72, 27, 8, 4]\n",
      "[47, 11, 50, 82, 38, 78]\n",
      "[7, 61, 30, 30, 4, 53]\n",
      "\n",
      "Matriz transpuesta:\n",
      "([4, 100, 65, 64, 34, 48],)\n",
      "([85, 80, 62, 77, 98, 63],)\n",
      "([63, 97, 72, 27, 8, 4],)\n",
      "([47, 11, 50, 82, 38, 78],)\n",
      "([7, 61, 30, 30, 4, 53],)\n"
     ]
    }
   ],
   "source": [
    "\n",
    "# todo: Resolución\n",
    "import random\n",
    "\n",
    "def matriz_randint():\n",
    "  y = int(input(\"Ingrese numero de filas: \"))\n",
    "  x = int(input(\"Ingrese numero de columnas: \"))\n",
    "  #crea una matriz de numero random con el valor de x para columnas y y filas\n",
    "  matriz = [[random.randint(1, 100) for _ in range(x)] for _ in range(y)]\n",
    "  #Traspone la matriz\n",
    "  transpuesta = tuple(zip(*matriz))\n",
    "\n",
    "  print(\"\\nMatriz:\")\n",
    "  for fila in matriz:\n",
    "    print(fila)\n",
    "\n",
    "  print(\"\\nMatriz transpuesta:\")\n",
    "  for fila in transpuesta:\n",
    "    print(fila)\n",
    "matriz_randint()"
   ]
  },
  {
   "cell_type": "code",
   "execution_count": null,
   "metadata": {},
   "outputs": [
    {
     "name": "stdout",
     "output_type": "stream",
     "text": [
      "Precio menor:  8\n",
      "Precio mayor: 80\n"
     ]
    }
   ],
   "source": [
    "\n",
    "# todo: Resolución\n",
    "def precios_ordenados():\n",
    " precios = [50, 75, 46, 22, 80, 65, 8]\n",
    " #busca el numero menor de la lista precios\n",
    " print(\"Precio menor: \", min(precios))\n",
    " #busca el precio mayor de la lista precio\n",
    " print(\"Precio mayor:\", max(precios))\n",
    "precios_ordenados()\n"
   ]
  },
  {
   "cell_type": "markdown",
   "metadata": {},
   "source": [
    "### 3. **Diccionarios**\n",
    "\n",
    "   - **Actividad 1**: Escribir un programa que cree un diccionario simulando una cesta de la compra. El programa debe preguntar el artículo y su precio y añadir el par al diccionario, hasta que el usuario decida terminar. Después se debe mostrar por pantalla la lista de la compra y el coste total, con el siguiente formato.\n",
    "\n",
    "   | arts  |precio |\n",
    "   |-------|-------|\n",
    "   |art 1  |1      |\n",
    "   |art 2  |2      |\n",
    "   |art 3  |3      |\n",
    "   |total  |6      |\n",
    "\n",
    "   - **Actividad 2**: Escribir un programa que cree un diccionario de traducción español-inglés. El usuario introducirá las palabras en español e inglés separadas por dos puntos, y cada par <palabra> : <traducción> separados por comas (es decir, solo se debe usar **UNA VEZ** la función input para la carga de palabras). El programa debe crear un diccionario con las palabras y sus traducciones. Después pedirá una frase en español y utilizará el diccionario para traducirla palabra a palabra. Si una palabra no está en el diccionario debe dejarla sin traducir.\n",
    "\n",
    "   - **Actividad 3**: Escribir un programa que reciba una cadena de caracteres y devuelva un diccionario con cada palabra que contiene y su frecuencia. Escribir otra función que reciba el diccionario generado con la función anterior y devuelva una tupla con la palabra más repetida y su frecuencia."
   ]
  },
  {
   "cell_type": "code",
   "execution_count": null,
   "metadata": {},
   "outputs": [
    {
     "name": "stdout",
     "output_type": "stream",
     "text": [
      " Arts  | Precio\n",
      " arts1 | 1.0 \n",
      " arts2 | 2.0 \n",
      " arts3 | 3.0 \n",
      " arts4 | 4.0 \n",
      " total | 10.0 \n"
     ]
    }
   ],
   "source": [
    "\n",
    "# todo: Resolución\n",
    "def cestra_compra():\n",
    " cesta = {}\n",
    " total = 0\n",
    "\n",
    " while True:\n",
    "    articulo = input(\"Artículo (escribe 'salir' para terminar): \")\n",
    "    if articulo == \"salir\":\n",
    "        break\n",
    "    precio = float(input(\"Precio: \"))\n",
    "    #relacionamos el valor de articulo:precio y guardamos en la matriz cesta\n",
    "    cesta[articulo] = precio\n",
    "    total += precio\n",
    " print(\" Arts  | Precio\")\n",
    " for art, precio in cesta.items():\n",
    "    print(f\" {art} | {precio} \")\n",
    " print(f\" total | {total} \")\n",
    "cestra_compra()\n"
   ]
  },
  {
   "cell_type": "code",
   "execution_count": null,
   "metadata": {},
   "outputs": [
    {
     "name": "stdout",
     "output_type": "stream",
     "text": [
      "Traducción: hello world\n"
     ]
    }
   ],
   "source": [
    "\n",
    "# todo: Resolución\n",
    "def palabras_traduccion():\n",
    "\n",
    " traduccion_palabra = input(\"Ingresa una palabra en 'español:inglés' separadas por comas: \")\n",
    " pares = traduccion_palabra.split(\",\")\n",
    " diccionario = {}\n",
    "\n",
    " #se recorre cada par y se lo divide por el simbolo :\n",
    " for par in pares:\n",
    "    esp, ing = par.split(\":\")\n",
    "    #sacamos los espacios en blanco y guarda en el diccionario\n",
    "    diccionario[esp.strip()] = ing.strip()\n",
    "\n",
    " frase = input(\"Frase en español: \")\n",
    " palabras = frase.split()\n",
    " #guardamos las traducciones\n",
    " traduccion = []\n",
    "\n",
    " for palabra in palabras:\n",
    "    #se obtiene si la palabra necesaria esta en el diccionario\n",
    "    traduccion.append(diccionario.get(palabra, palabra))\n",
    "\n",
    " print(\"Traducción:\", \" \".join(traduccion))\n",
    "palabras_traduccion()"
   ]
  },
  {
   "cell_type": "code",
   "execution_count": null,
   "metadata": {},
   "outputs": [
    {
     "name": "stdout",
     "output_type": "stream",
     "text": [
      "Frecuencia: {'hola': 2, 'mundo': 1}\n",
      "Palabra más repetida: hola - 2 veces\n"
     ]
    }
   ],
   "source": [
    "\n",
    "# todo: Resolución\n",
    "def conteo_repeticion():\n",
    " texto = input(\"Escribe un texto: \")\n",
    "#separa el texto por partes\n",
    " palabras = texto.split()\n",
    " frecuencia = {}\n",
    "\n",
    " for palabra in palabras:\n",
    "    palabra = palabra.lower()\n",
    "    if palabra in frecuencia:\n",
    "        frecuencia[palabra] += 1\n",
    "    else:\n",
    "        frecuencia[palabra] = 1\n",
    "\n",
    " print(\"Frecuencia:\", frecuencia)\n",
    "\n",
    " # Encontrar la palabra más repetida\n",
    " mas_repetida = max(frecuencia, key=frecuencia.get)\n",
    " print(\"Palabra más repetida:\", mas_repetida, \":\", frecuencia[mas_repetida], \"veces\")\n",
    "conteo_repeticion()"
   ]
  },
  {
   "cell_type": "markdown",
   "metadata": {},
   "source": [
    "### 4. **Funciones**\n",
    "\n",
    "- **Actividad 1**: Escribir una función que calcule el total de una factura tras aplicarle el IVA. La función debe recibir la cantidad sin IVA y el porcentaje de IVA a aplicar, y devolver el total de la factura. Si se invoca la función sin pasarle el porcentaje de IVA, deberá aplicar un 21%.\n",
    "\n",
    "- **Actividad 2**: Escribir una función que reciba un número entero positivo y devuelva su factorial.\n"
   ]
  },
  {
   "cell_type": "code",
   "execution_count": null,
   "metadata": {},
   "outputs": [
    {
     "name": "stdout",
     "output_type": "stream",
     "text": [
      "IVA(21%):$420.00\n",
      "Total con IVA: $2420.0\n"
     ]
    }
   ],
   "source": [
    "\n",
    "# todo: Resolución\n",
    "\n",
    "def factura_total():\n",
    "    factura_precio=int(input(\"Ingrese el precio de la factura:\"))\n",
    "    porcentaje_iva = input(\"Ingrese el porcentaje de IVA(deje vacio si es 21%):\")\n",
    "    #si el usuario no ingresa nada el valor del %iva es 21\n",
    "    if porcentaje_iva ==\"\":\n",
    "        iva = 21\n",
    "    else: \n",
    "     iva = porcentaje_iva\n",
    "     total_iva = factura_precio*(iva/100)\n",
    "     total_completo = factura_precio + total_iva\n",
    "     print(f\"IVA({iva}%):${total_iva}\")\n",
    "     print(f\"Total con IVA: ${total_completo}\")\n",
    "factura_total()\n",
    "\n",
    "    "
   ]
  },
  {
   "cell_type": "code",
   "execution_count": null,
   "metadata": {},
   "outputs": [
    {
     "name": "stdout",
     "output_type": "stream",
     "text": [
      "6\n"
     ]
    }
   ],
   "source": [
    "\n",
    "# todo: Resolución\n",
    "import math\n",
    "def positivo_factorial():\n",
    " numero = int(input(\"Ingrese un numero: \"))\n",
    " #si el numero es menor a 0. Ingrese un numero positivo\n",
    " if numero < 0: \n",
    "  print(\"Ingrese un numero positivo\")\n",
    " else:\n",
    "  factorial = math.factorial(numero)\n",
    "  print(factorial)\n",
    "positivo_factorial()"
   ]
  }
 ],
 "metadata": {
  "kernelspec": {
   "display_name": "Python 3",
   "language": "python",
   "name": "python3"
  },
  "language_info": {
   "codemirror_mode": {
    "name": "ipython",
    "version": 3
   },
   "file_extension": ".py",
   "mimetype": "text/x-python",
   "name": "python",
   "nbconvert_exporter": "python",
   "pygments_lexer": "ipython3",
   "version": "3.13.2"
  }
 },
 "nbformat": 4,
 "nbformat_minor": 2
}
